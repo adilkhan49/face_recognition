{
 "cells": [
  {
   "cell_type": "code",
   "execution_count": 15,
   "metadata": {},
   "outputs": [],
   "source": [
    "# -*- coding: utf-8 -*-\n",
    "\"\"\"\n",
    "Created on Wed Oct  9 01:59:56 2019\n",
    "\n",
    "@author: Adil\n",
    "\"\"\"\n",
    "\n",
    "import dlib\n",
    "import numpy as np\n",
    "import time\n",
    "import face_recognition\n",
    "import os\n",
    "from PIL import Image\n",
    "from matplotlib import pyplot as plt\n",
    "\n",
    "def get_face_embeddings_from_image(image, convert_to_rgb=False):\n",
    "   \n",
    "    if convert_to_rgb:\n",
    "        image = image[:, :, ::-1]\n",
    "    face_locations = face_recognition.face_locations(image)\n",
    "    face_encodings = face_recognition.face_encodings(image, face_locations)\n",
    "    return face_locations, face_encodings\n",
    "\n",
    "class Pic:\n",
    "    \n",
    "    def __init__(self,path):\n",
    "        self.path = path\n",
    "        self.comparisons={}\n",
    "        \n",
    "    def load(self):\n",
    "        self.img = face_recognition.load_image_file(path)\n",
    "        \n",
    "    def embed(self):\n",
    "        self.locations,self.embedding=get_face_embeddings_from_image(self.img)\n",
    "    \n",
    "    def compare(self,other):\n",
    "        comparison=face_recognition.face_distance(other.embedding,self.embedding[0])\n",
    "        print('{0:<20}{1:<20}{2:>10}'.format(self.path,other.path,str(comparison[0])))\n",
    "        self.comparisons[other.path]=comparison[0]\n",
    "    \n",
    "    def anchor(self):\n",
    "        self.anchors = face_recognition.face_landmarks(self.img,self.locations)  \n",
    "    \n",
    "    def plot(self,ax):\n",
    "        anchor = self.anchors[0]      \n",
    "        for key in anchor.keys():\n",
    "            for pair in anchor[key]:\n",
    "                ax.plot(pair[0],-pair[1],'o', color='black')\n",
    "                ax.set_title(self.path)\n",
    "    \n",
    "    def display(self):\n",
    "        image=face_recognition.load_image_file(self.path)\n",
    "        top, right, bottom, left = self.locations[0]\n",
    "        face_image = image[top:bottom, left:right]\n",
    "        pil_image = Image.fromarray(face_image)\n",
    "        print(top, right, bottom, left)\n",
    "        pil_image.show()\n",
    "        "
   ]
  },
  {
   "cell_type": "code",
   "execution_count": 16,
   "metadata": {},
   "outputs": [],
   "source": [
    "# For each pic in dir: instantiate, load, embed and anchor\n",
    "\n",
    "image_dir = ('./image_dir')\n",
    "paths = os.listdir(image_dir)\n",
    "\n",
    "pictures  = []\n",
    "\n",
    "for k,path in enumerate(paths):\n",
    "    pictures.append(Pic(path))\n",
    "    pictures[-1].load()    \n",
    "    pictures[-1].embed()\n",
    "    pictures[-1].anchor()\n"
   ]
  },
  {
   "cell_type": "code",
   "execution_count": 17,
   "metadata": {},
   "outputs": [
    {
     "name": "stdout",
     "output_type": "stream",
     "text": [
      "PictureA            PictureB            VectorDistance\n",
      "dt1.jpg             dt1.jpg                    0.0\n",
      "dt1.jpg             kk1.jpg             0.7849338793765491\n",
      "dt1.jpg             kk2.jpg             0.8149979452891201\n",
      "kk1.jpg             dt1.jpg             0.7849338793765491\n",
      "kk1.jpg             kk1.jpg                    0.0\n",
      "kk1.jpg             kk2.jpg             0.3400226363607682\n",
      "kk2.jpg             dt1.jpg             0.8149979452891201\n",
      "kk2.jpg             kk1.jpg             0.3400226363607682\n",
      "kk2.jpg             kk2.jpg                    0.0\n"
     ]
    }
   ],
   "source": [
    "# Compare each picture to all others\n",
    "\n",
    "print('{0:<20}{1:<20}{2:>10}'.format('PictureA','PictureB','VectorDistance'))\n",
    "\n",
    "num = len(pictures)\n",
    "\n",
    "for i in range(num):    \n",
    "    for j in range(num):\n",
    "        pictures[i].compare(pictures[j])\n",
    "        "
   ]
  },
  {
   "cell_type": "code",
   "execution_count": 18,
   "metadata": {},
   "outputs": [
    {
     "data": {
      "image/png": "[encoded data removed]",
      "text/plain": [
       "<Figure size 288x864 with 3 Axes>"
      ]
     },
     "metadata": {
      "needs_background": "light"
     },
     "output_type": "display_data"
    }
   ],
   "source": [
    "# Plot facial features\n",
    "\n",
    "fig, axes = plt.subplots(num,figsize=(4,4*num))\n",
    "\n",
    "for i in range(num):\n",
    "    pictures[i].plot(axes[i])\n",
    "    "
   ]
  }
 ],
 "metadata": {
  "kernelspec": {
   "display_name": "Python 3",
   "language": "python",
   "name": "python3"
  },
  "language_info": {
   "codemirror_mode": {
    "name": "ipython",
    "version": 3
   },
   "file_extension": ".py",
   "mimetype": "text/x-python",
   "name": "python",
   "nbconvert_exporter": "python",
   "pygments_lexer": "ipython3",
   "version": "3.6.8"
  }
 },
 "nbformat": 4,
 "nbformat_minor": 4
}
